{
 "cells": [
  {
   "cell_type": "code",
   "execution_count": 24,
   "id": "1665bc99",
   "metadata": {},
   "outputs": [],
   "source": [
    "from pandas_datareader import wb \n",
    "import pandas_datareader as pdt \n",
    "import pandas as pd\n",
    "import numpy as np\n",
    "import matplotlib.pyplot as plt\n",
    "import seaborn as sns\n",
    "import missingno as mno\n",
    "from sklearn import linear_model\n",
    "from sklearn.model_selection import train_test_split\n",
    "from sklearn.metrics import mean_squared_error, mean_absolute_error\n",
    "%matplotlib inline"
   ]
  },
  {
   "cell_type": "code",
   "execution_count": 2,
   "id": "1923960a",
   "metadata": {},
   "outputs": [],
   "source": [
    "import warnings\n",
    "warnings.filterwarnings('ignore')\n",
    "warnings.simplefilter('ignore')"
   ]
  },
  {
   "cell_type": "code",
   "execution_count": 3,
   "id": "a0e485ea",
   "metadata": {},
   "outputs": [
    {
     "data": {
      "text/html": [
       "<div>\n",
       "<style scoped>\n",
       "    .dataframe tbody tr th:only-of-type {\n",
       "        vertical-align: middle;\n",
       "    }\n",
       "\n",
       "    .dataframe tbody tr th {\n",
       "        vertical-align: top;\n",
       "    }\n",
       "\n",
       "    .dataframe thead th {\n",
       "        text-align: right;\n",
       "    }\n",
       "</style>\n",
       "<table border=\"1\" class=\"dataframe\">\n",
       "  <thead>\n",
       "    <tr style=\"text-align: right;\">\n",
       "      <th></th>\n",
       "      <th></th>\n",
       "      <th>GDP</th>\n",
       "      <th>INF</th>\n",
       "      <th>TRADE</th>\n",
       "      <th>H</th>\n",
       "      <th>IND</th>\n",
       "      <th>M</th>\n",
       "      <th>FDI</th>\n",
       "    </tr>\n",
       "    <tr>\n",
       "      <th>country</th>\n",
       "      <th>year</th>\n",
       "      <th></th>\n",
       "      <th></th>\n",
       "      <th></th>\n",
       "      <th></th>\n",
       "      <th></th>\n",
       "      <th></th>\n",
       "      <th></th>\n",
       "    </tr>\n",
       "  </thead>\n",
       "  <tbody>\n",
       "    <tr>\n",
       "      <th rowspan=\"26\" valign=\"top\">Vietnam</th>\n",
       "      <th>2021</th>\n",
       "      <td>2.561551</td>\n",
       "      <td>1.834716</td>\n",
       "      <td>186.468183</td>\n",
       "      <td>NaN</td>\n",
       "      <td>37.476236</td>\n",
       "      <td>NaN</td>\n",
       "      <td>4.277081</td>\n",
       "    </tr>\n",
       "    <tr>\n",
       "      <th>2020</th>\n",
       "      <td>2.865412</td>\n",
       "      <td>3.220934</td>\n",
       "      <td>163.245857</td>\n",
       "      <td>NaN</td>\n",
       "      <td>36.743712</td>\n",
       "      <td>13.633490</td>\n",
       "      <td>4.558362</td>\n",
       "    </tr>\n",
       "    <tr>\n",
       "      <th>2019</th>\n",
       "      <td>7.359281</td>\n",
       "      <td>2.795824</td>\n",
       "      <td>164.704221</td>\n",
       "      <td>83.09</td>\n",
       "      <td>36.803132</td>\n",
       "      <td>13.621302</td>\n",
       "      <td>4.821075</td>\n",
       "    </tr>\n",
       "    <tr>\n",
       "      <th>2018</th>\n",
       "      <td>7.464991</td>\n",
       "      <td>3.539628</td>\n",
       "      <td>164.663940</td>\n",
       "      <td>83.21</td>\n",
       "      <td>36.542440</td>\n",
       "      <td>12.698384</td>\n",
       "      <td>4.998283</td>\n",
       "    </tr>\n",
       "    <tr>\n",
       "      <th>2017</th>\n",
       "      <td>6.940188</td>\n",
       "      <td>3.520257</td>\n",
       "      <td>160.980072</td>\n",
       "      <td>82.66</td>\n",
       "      <td>35.390366</td>\n",
       "      <td>14.256368</td>\n",
       "      <td>5.011487</td>\n",
       "    </tr>\n",
       "    <tr>\n",
       "      <th>2016</th>\n",
       "      <td>6.690009</td>\n",
       "      <td>2.668248</td>\n",
       "      <td>145.409507</td>\n",
       "      <td>82.16</td>\n",
       "      <td>34.115237</td>\n",
       "      <td>17.880357</td>\n",
       "      <td>4.900893</td>\n",
       "    </tr>\n",
       "    <tr>\n",
       "      <th>2015</th>\n",
       "      <td>6.987167</td>\n",
       "      <td>0.631201</td>\n",
       "      <td>144.914220</td>\n",
       "      <td>82.42</td>\n",
       "      <td>34.266538</td>\n",
       "      <td>14.908440</td>\n",
       "      <td>4.931907</td>\n",
       "    </tr>\n",
       "    <tr>\n",
       "      <th>2014</th>\n",
       "      <td>6.422247</td>\n",
       "      <td>4.084554</td>\n",
       "      <td>135.410512</td>\n",
       "      <td>82.49</td>\n",
       "      <td>35.298576</td>\n",
       "      <td>19.740018</td>\n",
       "      <td>3.940862</td>\n",
       "    </tr>\n",
       "    <tr>\n",
       "      <th>2013</th>\n",
       "      <td>5.553500</td>\n",
       "      <td>6.592675</td>\n",
       "      <td>130.846344</td>\n",
       "      <td>82.26</td>\n",
       "      <td>35.575154</td>\n",
       "      <td>21.399470</td>\n",
       "      <td>4.164545</td>\n",
       "    </tr>\n",
       "    <tr>\n",
       "      <th>2012</th>\n",
       "      <td>5.504546</td>\n",
       "      <td>9.094703</td>\n",
       "      <td>123.224126</td>\n",
       "      <td>81.28</td>\n",
       "      <td>35.860244</td>\n",
       "      <td>24.544748</td>\n",
       "      <td>4.278323</td>\n",
       "    </tr>\n",
       "    <tr>\n",
       "      <th>2011</th>\n",
       "      <td>6.413178</td>\n",
       "      <td>18.677732</td>\n",
       "      <td>125.260589</td>\n",
       "      <td>81.02</td>\n",
       "      <td>34.580400</td>\n",
       "      <td>11.942446</td>\n",
       "      <td>4.304875</td>\n",
       "    </tr>\n",
       "    <tr>\n",
       "      <th>2010</th>\n",
       "      <td>6.423238</td>\n",
       "      <td>9.207466</td>\n",
       "      <td>113.977695</td>\n",
       "      <td>80.83</td>\n",
       "      <td>33.022878</td>\n",
       "      <td>29.714607</td>\n",
       "      <td>5.434740</td>\n",
       "    </tr>\n",
       "    <tr>\n",
       "      <th>2009</th>\n",
       "      <td>5.397898</td>\n",
       "      <td>6.716983</td>\n",
       "      <td>134.706318</td>\n",
       "      <td>80.60</td>\n",
       "      <td>37.388186</td>\n",
       "      <td>26.232670</td>\n",
       "      <td>7.168820</td>\n",
       "    </tr>\n",
       "    <tr>\n",
       "      <th>2008</th>\n",
       "      <td>5.661771</td>\n",
       "      <td>23.115448</td>\n",
       "      <td>154.317480</td>\n",
       "      <td>80.67</td>\n",
       "      <td>37.077696</td>\n",
       "      <td>20.697527</td>\n",
       "      <td>9.663039</td>\n",
       "    </tr>\n",
       "    <tr>\n",
       "      <th>2007</th>\n",
       "      <td>7.129504</td>\n",
       "      <td>8.344449</td>\n",
       "      <td>154.605384</td>\n",
       "      <td>80.80</td>\n",
       "      <td>38.511625</td>\n",
       "      <td>49.105997</td>\n",
       "      <td>8.654718</td>\n",
       "    </tr>\n",
       "    <tr>\n",
       "      <th>2006</th>\n",
       "      <td>6.977955</td>\n",
       "      <td>7.418017</td>\n",
       "      <td>138.313622</td>\n",
       "      <td>80.99</td>\n",
       "      <td>38.584731</td>\n",
       "      <td>29.670796</td>\n",
       "      <td>3.616001</td>\n",
       "    </tr>\n",
       "    <tr>\n",
       "      <th>2005</th>\n",
       "      <td>7.547248</td>\n",
       "      <td>8.284572</td>\n",
       "      <td>130.714846</td>\n",
       "      <td>81.16</td>\n",
       "      <td>38.131140</td>\n",
       "      <td>30.906710</td>\n",
       "      <td>3.390404</td>\n",
       "    </tr>\n",
       "    <tr>\n",
       "      <th>2004</th>\n",
       "      <td>7.536411</td>\n",
       "      <td>7.754947</td>\n",
       "      <td>133.016498</td>\n",
       "      <td>81.36</td>\n",
       "      <td>40.208750</td>\n",
       "      <td>31.049976</td>\n",
       "      <td>3.544081</td>\n",
       "    </tr>\n",
       "    <tr>\n",
       "      <th>2003</th>\n",
       "      <td>6.899063</td>\n",
       "      <td>3.234648</td>\n",
       "      <td>124.327954</td>\n",
       "      <td>81.55</td>\n",
       "      <td>39.470008</td>\n",
       "      <td>33.052044</td>\n",
       "      <td>3.666012</td>\n",
       "    </tr>\n",
       "    <tr>\n",
       "      <th>2002</th>\n",
       "      <td>6.320821</td>\n",
       "      <td>3.830828</td>\n",
       "      <td>116.696869</td>\n",
       "      <td>81.70</td>\n",
       "      <td>38.486679</td>\n",
       "      <td>13.274535</td>\n",
       "      <td>3.992687</td>\n",
       "    </tr>\n",
       "    <tr>\n",
       "      <th>2001</th>\n",
       "      <td>6.192893</td>\n",
       "      <td>-0.431545</td>\n",
       "      <td>111.955938</td>\n",
       "      <td>81.81</td>\n",
       "      <td>38.129422</td>\n",
       "      <td>27.336462</td>\n",
       "      <td>3.977335</td>\n",
       "    </tr>\n",
       "    <tr>\n",
       "      <th>2000</th>\n",
       "      <td>6.787316</td>\n",
       "      <td>-1.710337</td>\n",
       "      <td>111.417094</td>\n",
       "      <td>81.90</td>\n",
       "      <td>36.730775</td>\n",
       "      <td>35.419318</td>\n",
       "      <td>4.163924</td>\n",
       "    </tr>\n",
       "    <tr>\n",
       "      <th>1999</th>\n",
       "      <td>4.773587</td>\n",
       "      <td>4.117102</td>\n",
       "      <td>102.787407</td>\n",
       "      <td>82.02</td>\n",
       "      <td>34.494752</td>\n",
       "      <td>66.451597</td>\n",
       "      <td>4.922663</td>\n",
       "    </tr>\n",
       "    <tr>\n",
       "      <th>1998</th>\n",
       "      <td>5.764455</td>\n",
       "      <td>7.266198</td>\n",
       "      <td>97.001249</td>\n",
       "      <td>82.03</td>\n",
       "      <td>32.491268</td>\n",
       "      <td>23.809449</td>\n",
       "      <td>6.141214</td>\n",
       "    </tr>\n",
       "    <tr>\n",
       "      <th>1997</th>\n",
       "      <td>8.152084</td>\n",
       "      <td>3.209526</td>\n",
       "      <td>94.344484</td>\n",
       "      <td>82.07</td>\n",
       "      <td>32.075135</td>\n",
       "      <td>25.292109</td>\n",
       "      <td>8.270097</td>\n",
       "    </tr>\n",
       "    <tr>\n",
       "      <th>1996</th>\n",
       "      <td>9.340017</td>\n",
       "      <td>5.675000</td>\n",
       "      <td>92.705747</td>\n",
       "      <td>82.18</td>\n",
       "      <td>29.729889</td>\n",
       "      <td>25.795255</td>\n",
       "      <td>9.713081</td>\n",
       "    </tr>\n",
       "  </tbody>\n",
       "</table>\n",
       "</div>"
      ],
      "text/plain": [
       "                   GDP        INF       TRADE      H        IND          M  \\\n",
       "country year                                                                 \n",
       "Vietnam 2021  2.561551   1.834716  186.468183    NaN  37.476236        NaN   \n",
       "        2020  2.865412   3.220934  163.245857    NaN  36.743712  13.633490   \n",
       "        2019  7.359281   2.795824  164.704221  83.09  36.803132  13.621302   \n",
       "        2018  7.464991   3.539628  164.663940  83.21  36.542440  12.698384   \n",
       "        2017  6.940188   3.520257  160.980072  82.66  35.390366  14.256368   \n",
       "        2016  6.690009   2.668248  145.409507  82.16  34.115237  17.880357   \n",
       "        2015  6.987167   0.631201  144.914220  82.42  34.266538  14.908440   \n",
       "        2014  6.422247   4.084554  135.410512  82.49  35.298576  19.740018   \n",
       "        2013  5.553500   6.592675  130.846344  82.26  35.575154  21.399470   \n",
       "        2012  5.504546   9.094703  123.224126  81.28  35.860244  24.544748   \n",
       "        2011  6.413178  18.677732  125.260589  81.02  34.580400  11.942446   \n",
       "        2010  6.423238   9.207466  113.977695  80.83  33.022878  29.714607   \n",
       "        2009  5.397898   6.716983  134.706318  80.60  37.388186  26.232670   \n",
       "        2008  5.661771  23.115448  154.317480  80.67  37.077696  20.697527   \n",
       "        2007  7.129504   8.344449  154.605384  80.80  38.511625  49.105997   \n",
       "        2006  6.977955   7.418017  138.313622  80.99  38.584731  29.670796   \n",
       "        2005  7.547248   8.284572  130.714846  81.16  38.131140  30.906710   \n",
       "        2004  7.536411   7.754947  133.016498  81.36  40.208750  31.049976   \n",
       "        2003  6.899063   3.234648  124.327954  81.55  39.470008  33.052044   \n",
       "        2002  6.320821   3.830828  116.696869  81.70  38.486679  13.274535   \n",
       "        2001  6.192893  -0.431545  111.955938  81.81  38.129422  27.336462   \n",
       "        2000  6.787316  -1.710337  111.417094  81.90  36.730775  35.419318   \n",
       "        1999  4.773587   4.117102  102.787407  82.02  34.494752  66.451597   \n",
       "        1998  5.764455   7.266198   97.001249  82.03  32.491268  23.809449   \n",
       "        1997  8.152084   3.209526   94.344484  82.07  32.075135  25.292109   \n",
       "        1996  9.340017   5.675000   92.705747  82.18  29.729889  25.795255   \n",
       "\n",
       "                   FDI  \n",
       "country year            \n",
       "Vietnam 2021  4.277081  \n",
       "        2020  4.558362  \n",
       "        2019  4.821075  \n",
       "        2018  4.998283  \n",
       "        2017  5.011487  \n",
       "        2016  4.900893  \n",
       "        2015  4.931907  \n",
       "        2014  3.940862  \n",
       "        2013  4.164545  \n",
       "        2012  4.278323  \n",
       "        2011  4.304875  \n",
       "        2010  5.434740  \n",
       "        2009  7.168820  \n",
       "        2008  9.663039  \n",
       "        2007  8.654718  \n",
       "        2006  3.616001  \n",
       "        2005  3.390404  \n",
       "        2004  3.544081  \n",
       "        2003  3.666012  \n",
       "        2002  3.992687  \n",
       "        2001  3.977335  \n",
       "        2000  4.163924  \n",
       "        1999  4.922663  \n",
       "        1998  6.141214  \n",
       "        1997  8.270097  \n",
       "        1996  9.713081  "
      ]
     },
     "execution_count": 3,
     "metadata": {},
     "output_type": "execute_result"
    }
   ],
   "source": [
    "data = wb.download(indicator=['NY.GDP.MKTP.KD.ZG','FP.CPI.TOTL.ZG','NE.TRD.GNFS.ZS','SL.TLF.ACTI.ZS','NV.IND.TOTL.ZS','FM.LBL.BMNY.ZG','BX.KLT.DINV.WD.GD.ZS'], country=['VN'], start=1996, end=2022)\n",
    "df=data.rename(columns={'NY.GDP.MKTP.KD.ZG':'GDP','FP.CPI.TOTL.ZG':'INF','NE.TRD.GNFS.ZS':'TRADE','SL.TLF.ACTI.ZS':'H','NV.IND.TOTL.ZS':'IND','FM.LBL.BMNY.ZG':'M','BX.KLT.DINV.WD.GD.ZS':'FDI'})\n",
    "df"
   ]
  },
  {
   "cell_type": "code",
   "execution_count": 4,
   "id": "fb8667d1",
   "metadata": {},
   "outputs": [
    {
     "name": "stdout",
     "output_type": "stream",
     "text": [
      "<class 'pandas.core.frame.DataFrame'>\n",
      "MultiIndex: 26 entries, ('Vietnam', '2021') to ('Vietnam', '1996')\n",
      "Data columns (total 7 columns):\n",
      " #   Column  Non-Null Count  Dtype  \n",
      "---  ------  --------------  -----  \n",
      " 0   GDP     26 non-null     float64\n",
      " 1   INF     26 non-null     float64\n",
      " 2   TRADE   26 non-null     float64\n",
      " 3   H       24 non-null     float64\n",
      " 4   IND     26 non-null     float64\n",
      " 5   M       25 non-null     float64\n",
      " 6   FDI     26 non-null     float64\n",
      "dtypes: float64(7)\n",
      "memory usage: 2.9+ KB\n"
     ]
    }
   ],
   "source": [
    "df.info()"
   ]
  },
  {
   "cell_type": "code",
   "execution_count": 5,
   "id": "844f8665",
   "metadata": {},
   "outputs": [],
   "source": [
    "missing_columns = [\"H\", \"M\"]"
   ]
  },
  {
   "cell_type": "code",
   "execution_count": 6,
   "id": "8f94106b",
   "metadata": {},
   "outputs": [],
   "source": [
    "def random_imputation(df, feature):\n",
    "\n",
    "    number_missing = df[feature].isnull().sum()\n",
    "    observed_values = df.loc[df[feature].notnull(), feature]\n",
    "    df.loc[df[feature].isnull(), feature + '_imp'] = np.random.choice(observed_values, number_missing, replace = True)\n",
    "    \n",
    "    return df"
   ]
  },
  {
   "cell_type": "code",
   "execution_count": 7,
   "id": "1325c5a1",
   "metadata": {},
   "outputs": [],
   "source": [
    "for feature in missing_columns:\n",
    "    df[feature + '_imp'] = df[feature]\n",
    "    df = random_imputation(df, feature)"
   ]
  },
  {
   "cell_type": "code",
   "execution_count": 8,
   "id": "290bc0ec",
   "metadata": {},
   "outputs": [],
   "source": [
    "deter_data = pd.DataFrame(columns = [\"Det\" + name for name in missing_columns])\n",
    "\n",
    "for feature in missing_columns:\n",
    "        \n",
    "    deter_data[\"Det\" + feature] = df[feature + \"_imp\"]\n",
    "    parameters = list(set(df.columns) - set(missing_columns) - {feature + '_imp'})\n",
    "    \n",
    "    #Create a Linear Regression model to estimate the missing data\n",
    "    model = linear_model.LinearRegression()\n",
    "    model.fit(X = df[parameters], y = df[feature + '_imp'])\n",
    "    \n",
    "    #observe that I preserve the index of the missing data from the original dataframe\n",
    "    deter_data.loc[df[feature].isnull(), \"Det\" + feature] = model.predict(df[parameters])[df[feature].isnull()]"
   ]
  },
  {
   "cell_type": "code",
   "execution_count": 9,
   "id": "1fc3a8a8",
   "metadata": {},
   "outputs": [
    {
     "data": {
      "text/html": [
       "<div>\n",
       "<style scoped>\n",
       "    .dataframe tbody tr th:only-of-type {\n",
       "        vertical-align: middle;\n",
       "    }\n",
       "\n",
       "    .dataframe tbody tr th {\n",
       "        vertical-align: top;\n",
       "    }\n",
       "\n",
       "    .dataframe thead th {\n",
       "        text-align: right;\n",
       "    }\n",
       "</style>\n",
       "<table border=\"1\" class=\"dataframe\">\n",
       "  <thead>\n",
       "    <tr style=\"text-align: right;\">\n",
       "      <th></th>\n",
       "      <th></th>\n",
       "      <th>DetH</th>\n",
       "      <th>DetM</th>\n",
       "    </tr>\n",
       "    <tr>\n",
       "      <th>country</th>\n",
       "      <th>year</th>\n",
       "      <th></th>\n",
       "      <th></th>\n",
       "    </tr>\n",
       "  </thead>\n",
       "  <tbody>\n",
       "    <tr>\n",
       "      <th rowspan=\"5\" valign=\"top\">Vietnam</th>\n",
       "      <th>2021</th>\n",
       "      <td>82.351347</td>\n",
       "      <td>37.666512</td>\n",
       "    </tr>\n",
       "    <tr>\n",
       "      <th>2020</th>\n",
       "      <td>82.253252</td>\n",
       "      <td>13.633490</td>\n",
       "    </tr>\n",
       "    <tr>\n",
       "      <th>2019</th>\n",
       "      <td>83.090000</td>\n",
       "      <td>13.621302</td>\n",
       "    </tr>\n",
       "    <tr>\n",
       "      <th>2018</th>\n",
       "      <td>83.210000</td>\n",
       "      <td>12.698384</td>\n",
       "    </tr>\n",
       "    <tr>\n",
       "      <th>2017</th>\n",
       "      <td>82.660000</td>\n",
       "      <td>14.256368</td>\n",
       "    </tr>\n",
       "  </tbody>\n",
       "</table>\n",
       "</div>"
      ],
      "text/plain": [
       "                   DetH       DetM\n",
       "country year                      \n",
       "Vietnam 2021  82.351347  37.666512\n",
       "        2020  82.253252  13.633490\n",
       "        2019  83.090000  13.621302\n",
       "        2018  83.210000  12.698384\n",
       "        2017  82.660000  14.256368"
      ]
     },
     "execution_count": 9,
     "metadata": {},
     "output_type": "execute_result"
    }
   ],
   "source": [
    "deter_data.head()"
   ]
  },
  {
   "cell_type": "code",
   "execution_count": 10,
   "id": "254f41b7",
   "metadata": {},
   "outputs": [
    {
     "data": {
      "text/html": [
       "<div>\n",
       "<style scoped>\n",
       "    .dataframe tbody tr th:only-of-type {\n",
       "        vertical-align: middle;\n",
       "    }\n",
       "\n",
       "    .dataframe tbody tr th {\n",
       "        vertical-align: top;\n",
       "    }\n",
       "\n",
       "    .dataframe thead th {\n",
       "        text-align: right;\n",
       "    }\n",
       "</style>\n",
       "<table border=\"1\" class=\"dataframe\">\n",
       "  <thead>\n",
       "    <tr style=\"text-align: right;\">\n",
       "      <th></th>\n",
       "      <th></th>\n",
       "      <th>GDP</th>\n",
       "      <th>INF</th>\n",
       "      <th>TRADE</th>\n",
       "      <th>H</th>\n",
       "      <th>IND</th>\n",
       "      <th>M</th>\n",
       "      <th>FDI</th>\n",
       "      <th>H_imp</th>\n",
       "      <th>M_imp</th>\n",
       "      <th>H1</th>\n",
       "      <th>M1</th>\n",
       "    </tr>\n",
       "    <tr>\n",
       "      <th>country</th>\n",
       "      <th>year</th>\n",
       "      <th></th>\n",
       "      <th></th>\n",
       "      <th></th>\n",
       "      <th></th>\n",
       "      <th></th>\n",
       "      <th></th>\n",
       "      <th></th>\n",
       "      <th></th>\n",
       "      <th></th>\n",
       "      <th></th>\n",
       "      <th></th>\n",
       "    </tr>\n",
       "  </thead>\n",
       "  <tbody>\n",
       "    <tr>\n",
       "      <th rowspan=\"5\" valign=\"top\">Vietnam</th>\n",
       "      <th>2021</th>\n",
       "      <td>2.561551</td>\n",
       "      <td>1.834716</td>\n",
       "      <td>186.468183</td>\n",
       "      <td>NaN</td>\n",
       "      <td>37.476236</td>\n",
       "      <td>NaN</td>\n",
       "      <td>4.277081</td>\n",
       "      <td>82.49</td>\n",
       "      <td>66.451597</td>\n",
       "      <td>82.351347</td>\n",
       "      <td>37.666512</td>\n",
       "    </tr>\n",
       "    <tr>\n",
       "      <th>2020</th>\n",
       "      <td>2.865412</td>\n",
       "      <td>3.220934</td>\n",
       "      <td>163.245857</td>\n",
       "      <td>NaN</td>\n",
       "      <td>36.743712</td>\n",
       "      <td>13.633490</td>\n",
       "      <td>4.558362</td>\n",
       "      <td>82.02</td>\n",
       "      <td>13.633490</td>\n",
       "      <td>82.253252</td>\n",
       "      <td>13.633490</td>\n",
       "    </tr>\n",
       "    <tr>\n",
       "      <th>2019</th>\n",
       "      <td>7.359281</td>\n",
       "      <td>2.795824</td>\n",
       "      <td>164.704221</td>\n",
       "      <td>83.09</td>\n",
       "      <td>36.803132</td>\n",
       "      <td>13.621302</td>\n",
       "      <td>4.821075</td>\n",
       "      <td>83.09</td>\n",
       "      <td>13.621302</td>\n",
       "      <td>83.090000</td>\n",
       "      <td>13.621302</td>\n",
       "    </tr>\n",
       "    <tr>\n",
       "      <th>2018</th>\n",
       "      <td>7.464991</td>\n",
       "      <td>3.539628</td>\n",
       "      <td>164.663940</td>\n",
       "      <td>83.21</td>\n",
       "      <td>36.542440</td>\n",
       "      <td>12.698384</td>\n",
       "      <td>4.998283</td>\n",
       "      <td>83.21</td>\n",
       "      <td>12.698384</td>\n",
       "      <td>83.210000</td>\n",
       "      <td>12.698384</td>\n",
       "    </tr>\n",
       "    <tr>\n",
       "      <th>2017</th>\n",
       "      <td>6.940188</td>\n",
       "      <td>3.520257</td>\n",
       "      <td>160.980072</td>\n",
       "      <td>82.66</td>\n",
       "      <td>35.390366</td>\n",
       "      <td>14.256368</td>\n",
       "      <td>5.011487</td>\n",
       "      <td>82.66</td>\n",
       "      <td>14.256368</td>\n",
       "      <td>82.660000</td>\n",
       "      <td>14.256368</td>\n",
       "    </tr>\n",
       "  </tbody>\n",
       "</table>\n",
       "</div>"
      ],
      "text/plain": [
       "                   GDP       INF       TRADE      H        IND          M  \\\n",
       "country year                                                                \n",
       "Vietnam 2021  2.561551  1.834716  186.468183    NaN  37.476236        NaN   \n",
       "        2020  2.865412  3.220934  163.245857    NaN  36.743712  13.633490   \n",
       "        2019  7.359281  2.795824  164.704221  83.09  36.803132  13.621302   \n",
       "        2018  7.464991  3.539628  164.663940  83.21  36.542440  12.698384   \n",
       "        2017  6.940188  3.520257  160.980072  82.66  35.390366  14.256368   \n",
       "\n",
       "                   FDI  H_imp      M_imp         H1         M1  \n",
       "country year                                                    \n",
       "Vietnam 2021  4.277081  82.49  66.451597  82.351347  37.666512  \n",
       "        2020  4.558362  82.02  13.633490  82.253252  13.633490  \n",
       "        2019  4.821075  83.09  13.621302  83.090000  13.621302  \n",
       "        2018  4.998283  83.21  12.698384  83.210000  12.698384  \n",
       "        2017  5.011487  82.66  14.256368  82.660000  14.256368  "
      ]
     },
     "execution_count": 10,
     "metadata": {},
     "output_type": "execute_result"
    }
   ],
   "source": [
    "df['H1']=deter_data['DetH']\n",
    "df['M1']=deter_data['DetM']\n",
    "df.head()"
   ]
  },
  {
   "cell_type": "code",
   "execution_count": 11,
   "id": "8dcd5427",
   "metadata": {},
   "outputs": [
    {
     "data": {
      "text/html": [
       "<div>\n",
       "<style scoped>\n",
       "    .dataframe tbody tr th:only-of-type {\n",
       "        vertical-align: middle;\n",
       "    }\n",
       "\n",
       "    .dataframe tbody tr th {\n",
       "        vertical-align: top;\n",
       "    }\n",
       "\n",
       "    .dataframe thead th {\n",
       "        text-align: right;\n",
       "    }\n",
       "</style>\n",
       "<table border=\"1\" class=\"dataframe\">\n",
       "  <thead>\n",
       "    <tr style=\"text-align: right;\">\n",
       "      <th></th>\n",
       "      <th></th>\n",
       "      <th>GDP</th>\n",
       "      <th>INF</th>\n",
       "      <th>TRADE</th>\n",
       "      <th>H1</th>\n",
       "      <th>IND</th>\n",
       "      <th>M1</th>\n",
       "      <th>FDI</th>\n",
       "    </tr>\n",
       "    <tr>\n",
       "      <th>country</th>\n",
       "      <th>year</th>\n",
       "      <th></th>\n",
       "      <th></th>\n",
       "      <th></th>\n",
       "      <th></th>\n",
       "      <th></th>\n",
       "      <th></th>\n",
       "      <th></th>\n",
       "    </tr>\n",
       "  </thead>\n",
       "  <tbody>\n",
       "    <tr>\n",
       "      <th rowspan=\"5\" valign=\"top\">Vietnam</th>\n",
       "      <th>2021</th>\n",
       "      <td>2.561551</td>\n",
       "      <td>1.834716</td>\n",
       "      <td>186.468183</td>\n",
       "      <td>82.351347</td>\n",
       "      <td>37.476236</td>\n",
       "      <td>37.666512</td>\n",
       "      <td>4.277081</td>\n",
       "    </tr>\n",
       "    <tr>\n",
       "      <th>2020</th>\n",
       "      <td>2.865412</td>\n",
       "      <td>3.220934</td>\n",
       "      <td>163.245857</td>\n",
       "      <td>82.253252</td>\n",
       "      <td>36.743712</td>\n",
       "      <td>13.633490</td>\n",
       "      <td>4.558362</td>\n",
       "    </tr>\n",
       "    <tr>\n",
       "      <th>2019</th>\n",
       "      <td>7.359281</td>\n",
       "      <td>2.795824</td>\n",
       "      <td>164.704221</td>\n",
       "      <td>83.090000</td>\n",
       "      <td>36.803132</td>\n",
       "      <td>13.621302</td>\n",
       "      <td>4.821075</td>\n",
       "    </tr>\n",
       "    <tr>\n",
       "      <th>2018</th>\n",
       "      <td>7.464991</td>\n",
       "      <td>3.539628</td>\n",
       "      <td>164.663940</td>\n",
       "      <td>83.210000</td>\n",
       "      <td>36.542440</td>\n",
       "      <td>12.698384</td>\n",
       "      <td>4.998283</td>\n",
       "    </tr>\n",
       "    <tr>\n",
       "      <th>2017</th>\n",
       "      <td>6.940188</td>\n",
       "      <td>3.520257</td>\n",
       "      <td>160.980072</td>\n",
       "      <td>82.660000</td>\n",
       "      <td>35.390366</td>\n",
       "      <td>14.256368</td>\n",
       "      <td>5.011487</td>\n",
       "    </tr>\n",
       "  </tbody>\n",
       "</table>\n",
       "</div>"
      ],
      "text/plain": [
       "                   GDP       INF       TRADE         H1        IND         M1  \\\n",
       "country year                                                                    \n",
       "Vietnam 2021  2.561551  1.834716  186.468183  82.351347  37.476236  37.666512   \n",
       "        2020  2.865412  3.220934  163.245857  82.253252  36.743712  13.633490   \n",
       "        2019  7.359281  2.795824  164.704221  83.090000  36.803132  13.621302   \n",
       "        2018  7.464991  3.539628  164.663940  83.210000  36.542440  12.698384   \n",
       "        2017  6.940188  3.520257  160.980072  82.660000  35.390366  14.256368   \n",
       "\n",
       "                   FDI  \n",
       "country year            \n",
       "Vietnam 2021  4.277081  \n",
       "        2020  4.558362  \n",
       "        2019  4.821075  \n",
       "        2018  4.998283  \n",
       "        2017  5.011487  "
      ]
     },
     "execution_count": 11,
     "metadata": {},
     "output_type": "execute_result"
    }
   ],
   "source": [
    "df2=df[['GDP','INF','TRADE','H1','IND','M1','FDI']]\n",
    "df2.head()"
   ]
  },
  {
   "cell_type": "code",
   "execution_count": 12,
   "id": "59e03b8c",
   "metadata": {},
   "outputs": [
    {
     "data": {
      "text/html": [
       "<div>\n",
       "<style scoped>\n",
       "    .dataframe tbody tr th:only-of-type {\n",
       "        vertical-align: middle;\n",
       "    }\n",
       "\n",
       "    .dataframe tbody tr th {\n",
       "        vertical-align: top;\n",
       "    }\n",
       "\n",
       "    .dataframe thead th {\n",
       "        text-align: right;\n",
       "    }\n",
       "</style>\n",
       "<table border=\"1\" class=\"dataframe\">\n",
       "  <thead>\n",
       "    <tr style=\"text-align: right;\">\n",
       "      <th></th>\n",
       "      <th>country</th>\n",
       "      <th>GDP</th>\n",
       "      <th>INF</th>\n",
       "      <th>TRADE</th>\n",
       "      <th>H1</th>\n",
       "      <th>IND</th>\n",
       "      <th>M1</th>\n",
       "      <th>FDI</th>\n",
       "    </tr>\n",
       "    <tr>\n",
       "      <th>year</th>\n",
       "      <th></th>\n",
       "      <th></th>\n",
       "      <th></th>\n",
       "      <th></th>\n",
       "      <th></th>\n",
       "      <th></th>\n",
       "      <th></th>\n",
       "      <th></th>\n",
       "    </tr>\n",
       "  </thead>\n",
       "  <tbody>\n",
       "    <tr>\n",
       "      <th>2021</th>\n",
       "      <td>Vietnam</td>\n",
       "      <td>2.561551</td>\n",
       "      <td>1.834716</td>\n",
       "      <td>186.468183</td>\n",
       "      <td>82.351347</td>\n",
       "      <td>37.476236</td>\n",
       "      <td>37.666512</td>\n",
       "      <td>4.277081</td>\n",
       "    </tr>\n",
       "    <tr>\n",
       "      <th>2020</th>\n",
       "      <td>Vietnam</td>\n",
       "      <td>2.865412</td>\n",
       "      <td>3.220934</td>\n",
       "      <td>163.245857</td>\n",
       "      <td>82.253252</td>\n",
       "      <td>36.743712</td>\n",
       "      <td>13.633490</td>\n",
       "      <td>4.558362</td>\n",
       "    </tr>\n",
       "    <tr>\n",
       "      <th>2019</th>\n",
       "      <td>Vietnam</td>\n",
       "      <td>7.359281</td>\n",
       "      <td>2.795824</td>\n",
       "      <td>164.704221</td>\n",
       "      <td>83.090000</td>\n",
       "      <td>36.803132</td>\n",
       "      <td>13.621302</td>\n",
       "      <td>4.821075</td>\n",
       "    </tr>\n",
       "    <tr>\n",
       "      <th>2018</th>\n",
       "      <td>Vietnam</td>\n",
       "      <td>7.464991</td>\n",
       "      <td>3.539628</td>\n",
       "      <td>164.663940</td>\n",
       "      <td>83.210000</td>\n",
       "      <td>36.542440</td>\n",
       "      <td>12.698384</td>\n",
       "      <td>4.998283</td>\n",
       "    </tr>\n",
       "    <tr>\n",
       "      <th>2017</th>\n",
       "      <td>Vietnam</td>\n",
       "      <td>6.940188</td>\n",
       "      <td>3.520257</td>\n",
       "      <td>160.980072</td>\n",
       "      <td>82.660000</td>\n",
       "      <td>35.390366</td>\n",
       "      <td>14.256368</td>\n",
       "      <td>5.011487</td>\n",
       "    </tr>\n",
       "  </tbody>\n",
       "</table>\n",
       "</div>"
      ],
      "text/plain": [
       "      country       GDP       INF       TRADE         H1        IND  \\\n",
       "year                                                                  \n",
       "2021  Vietnam  2.561551  1.834716  186.468183  82.351347  37.476236   \n",
       "2020  Vietnam  2.865412  3.220934  163.245857  82.253252  36.743712   \n",
       "2019  Vietnam  7.359281  2.795824  164.704221  83.090000  36.803132   \n",
       "2018  Vietnam  7.464991  3.539628  164.663940  83.210000  36.542440   \n",
       "2017  Vietnam  6.940188  3.520257  160.980072  82.660000  35.390366   \n",
       "\n",
       "             M1       FDI  \n",
       "year                       \n",
       "2021  37.666512  4.277081  \n",
       "2020  13.633490  4.558362  \n",
       "2019  13.621302  4.821075  \n",
       "2018  12.698384  4.998283  \n",
       "2017  14.256368  5.011487  "
      ]
     },
     "execution_count": 12,
     "metadata": {},
     "output_type": "execute_result"
    }
   ],
   "source": [
    "df2 = df2.reset_index(level='country')\n",
    "df2.head()"
   ]
  },
  {
   "cell_type": "code",
   "execution_count": 13,
   "id": "8a64ccc1",
   "metadata": {},
   "outputs": [
    {
     "data": {
      "text/plain": [
       "<AxesSubplot:xlabel='year'>"
      ]
     },
     "execution_count": 13,
     "metadata": {},
     "output_type": "execute_result"
    },
    {
     "data": {
      "image/png": "[encoded data removed]",
      "text/plain": [
       "<Figure size 864x360 with 1 Axes>"
      ]
     },
     "metadata": {
      "needs_background": "light"
     },
     "output_type": "display_data"
    }
   ],
   "source": [
    "df2['GDP'].plot(figsize=(12,5),legend=True)\n",
    "df2['INF'].plot(legend=True)\n",
    "df2['TRADE'].plot(legend=True)\n",
    "df2['H1'].plot(legend=True)\n",
    "df2['IND'].plot(legend=True)\n",
    "df2['M1'].plot(legend=True)\n",
    "df2['FDI'].plot(legend=True)"
   ]
  },
  {
   "cell_type": "code",
   "execution_count": 14,
   "id": "898be2ea",
   "metadata": {},
   "outputs": [],
   "source": [
    "df3=df2[['GDP','INF','TRADE','H1','IND','M1','FDI']]"
   ]
  },
  {
   "cell_type": "code",
   "execution_count": 15,
   "id": "7f448874",
   "metadata": {},
   "outputs": [
    {
     "data": {
      "image/png": "[encoded data removed]",
      "text/plain": [
       "<Figure size 720x432 with 2 Axes>"
      ]
     },
     "metadata": {
      "needs_background": "light"
     },
     "output_type": "display_data"
    }
   ],
   "source": [
    "plt.figure(figsize=(10,6))\n",
    "sns.heatmap(df3.corr(), annot=True)\n",
    "plt.show()"
   ]
  },
  {
   "cell_type": "code",
   "execution_count": 16,
   "id": "fd858b6b",
   "metadata": {},
   "outputs": [],
   "source": [
    "from statsmodels.tsa.stattools import adfuller\n",
    "def adf_test(series,title=''):\n",
    "    \"\"\"\n",
    "    Pass in a time series and an optional title, returns an ADF report\n",
    "    \"\"\"\n",
    "    print(f'Augmented Dickey-Fuller Test: {title}')\n",
    "    result = adfuller(series.dropna(),autolag='AIC') # .dropna() handles differenced data\n",
    "    labels = ['ADF test statistic','p-value','# lags used','# observations']\n",
    "    out = pd.Series(result[0:4],index=labels)\n",
    "    for key,val in result[4].items():\n",
    "        out[f'critical value ({key})']=val\n",
    "    print(out.to_string())          # .to_string() removes the line \"dtype: float64\"\n",
    "    if result[1] <= 0.05:\n",
    "        print(\"Strong evidence against the null hypothesis\")\n",
    "        print(\"Reject the null hypothesis\")\n",
    "        print(\"Data has no unit root and is stationary\")\n",
    "    else:\n",
    "        print(\"Weak evidence against the null hypothesis\")\n",
    "        print(\"Fail to reject the null hypothesis\")\n",
    "        print(\"Data has a unit root and is non-stationary\")"
   ]
  },
  {
   "cell_type": "code",
   "execution_count": 17,
   "id": "ae16b96d",
   "metadata": {},
   "outputs": [
    {
     "name": "stdout",
     "output_type": "stream",
     "text": [
      "Augmented Dickey-Fuller Test: \n",
      "ADF test statistic      -5.399534\n",
      "p-value                  0.000003\n",
      "# lags used              1.000000\n",
      "# observations          24.000000\n",
      "critical value (1%)     -3.737709\n",
      "critical value (5%)     -2.992216\n",
      "critical value (10%)    -2.635747\n",
      "Strong evidence against the null hypothesis\n",
      "Reject the null hypothesis\n",
      "Data has no unit root and is stationary\n"
     ]
    }
   ],
   "source": [
    "adf_test(df2['GDP'])"
   ]
  },
  {
   "cell_type": "code",
   "execution_count": 18,
   "id": "4d161398",
   "metadata": {},
   "outputs": [
    {
     "name": "stdout",
     "output_type": "stream",
     "text": [
      "Augmented Dickey-Fuller Test: \n",
      "ADF test statistic      -2.912310\n",
      "p-value                  0.043935\n",
      "# lags used              9.000000\n",
      "# observations          16.000000\n",
      "critical value (1%)     -3.924019\n",
      "critical value (5%)     -3.068498\n",
      "critical value (10%)    -2.673893\n",
      "Strong evidence against the null hypothesis\n",
      "Reject the null hypothesis\n",
      "Data has no unit root and is stationary\n"
     ]
    }
   ],
   "source": [
    "adf_test(df2['INF'])"
   ]
  },
  {
   "cell_type": "code",
   "execution_count": 19,
   "id": "227220f3",
   "metadata": {},
   "outputs": [],
   "source": [
    "X=df2[['INF','TRADE','H1','IND','M1','FDI']]\n",
    "y=df2['GDP']"
   ]
  },
  {
   "cell_type": "code",
   "execution_count": 74,
   "id": "fb845075",
   "metadata": {},
   "outputs": [],
   "source": [
    "X1=df2[['GDP','TRADE','H1','IND','M1','FDI']]\n",
    "y1=df2['INF']"
   ]
  },
  {
   "cell_type": "code",
   "execution_count": 26,
   "id": "ac56e6f6",
   "metadata": {},
   "outputs": [],
   "source": [
    "X_train, X_test, y_train, y_test = train_test_split(X, y, test_size=0.2, random_state= 12)"
   ]
  },
  {
   "cell_type": "code",
   "execution_count": 75,
   "id": "2e8ce2cd",
   "metadata": {},
   "outputs": [],
   "source": [
    "X_train1, X_test1, y_train1, y_test1 = train_test_split(X1, y1, test_size=0.2, random_state= 12)"
   ]
  },
  {
   "cell_type": "code",
   "execution_count": 27,
   "id": "f59d6900",
   "metadata": {},
   "outputs": [],
   "source": [
    "from sklearn.linear_model import LinearRegression\n",
    "model_linear = LinearRegression()"
   ]
  },
  {
   "cell_type": "code",
   "execution_count": 116,
   "id": "b33cad39",
   "metadata": {},
   "outputs": [],
   "source": [
    "model_linear.fit(X_train1, y_train1)\n",
    "yhat_test1 = model_linear.predict(X_test1)"
   ]
  },
  {
   "cell_type": "code",
   "execution_count": 117,
   "id": "64357029",
   "metadata": {},
   "outputs": [
    {
     "data": {
      "text/html": [
       "<div>\n",
       "<style scoped>\n",
       "    .dataframe tbody tr th:only-of-type {\n",
       "        vertical-align: middle;\n",
       "    }\n",
       "\n",
       "    .dataframe tbody tr th {\n",
       "        vertical-align: top;\n",
       "    }\n",
       "\n",
       "    .dataframe thead th {\n",
       "        text-align: right;\n",
       "    }\n",
       "</style>\n",
       "<table border=\"1\" class=\"dataframe\">\n",
       "  <thead>\n",
       "    <tr style=\"text-align: right;\">\n",
       "      <th></th>\n",
       "      <th>Actual</th>\n",
       "      <th>Predicted</th>\n",
       "    </tr>\n",
       "    <tr>\n",
       "      <th>year</th>\n",
       "      <th></th>\n",
       "      <th></th>\n",
       "    </tr>\n",
       "  </thead>\n",
       "  <tbody>\n",
       "    <tr>\n",
       "      <th>2001</th>\n",
       "      <td>-0.431545</td>\n",
       "      <td>4.692925</td>\n",
       "    </tr>\n",
       "    <tr>\n",
       "      <th>2014</th>\n",
       "      <td>4.084554</td>\n",
       "      <td>2.878764</td>\n",
       "    </tr>\n",
       "    <tr>\n",
       "      <th>2002</th>\n",
       "      <td>3.830828</td>\n",
       "      <td>7.552081</td>\n",
       "    </tr>\n",
       "    <tr>\n",
       "      <th>2020</th>\n",
       "      <td>3.220934</td>\n",
       "      <td>7.914413</td>\n",
       "    </tr>\n",
       "    <tr>\n",
       "      <th>2006</th>\n",
       "      <td>7.418017</td>\n",
       "      <td>8.455857</td>\n",
       "    </tr>\n",
       "  </tbody>\n",
       "</table>\n",
       "</div>"
      ],
      "text/plain": [
       "        Actual  Predicted\n",
       "year                     \n",
       "2001 -0.431545   4.692925\n",
       "2014  4.084554   2.878764\n",
       "2002  3.830828   7.552081\n",
       "2020  3.220934   7.914413\n",
       "2006  7.418017   8.455857"
      ]
     },
     "execution_count": 117,
     "metadata": {},
     "output_type": "execute_result"
    }
   ],
   "source": [
    "df_temp = pd.DataFrame({'Actual': y_test1, 'Predicted': yhat_test1})\n",
    "df_temp.head()"
   ]
  },
  {
   "cell_type": "code",
   "execution_count": 73,
   "id": "262d97b1",
   "metadata": {
    "scrolled": true
   },
   "outputs": [
    {
     "data": {
      "image/png": "[encoded data removed]",
      "text/plain": [
       "<Figure size 720x432 with 1 Axes>"
      ]
     },
     "metadata": {
      "needs_background": "light"
     },
     "output_type": "display_data"
    }
   ],
   "source": [
    "df_temp = df_temp.head(30)\n",
    "df_temp.plot(kind='bar',figsize=(10,6))\n",
    "plt.grid(which='major', linestyle='-', linewidth='0.5', color='green')\n",
    "plt.grid(which='minor', linestyle=':', linewidth='0.5', color='black')\n",
    "plt.show()"
   ]
  },
  {
   "cell_type": "code",
   "execution_count": 118,
   "id": "d48d5ee8",
   "metadata": {},
   "outputs": [
    {
     "name": "stdout",
     "output_type": "stream",
     "text": [
      "RMSE test dataset: 3.4074918160274192\n",
      "MSE test dataset: 11.611000476293839\n",
      "MAE test dataset: 3.003086931440606\n"
     ]
    }
   ],
   "source": [
    "print('RMSE test dataset:', mean_squared_error(y_test1, yhat_test1, squared=False))\n",
    "print('MSE test dataset:', mean_squared_error(y_test1, yhat_test1))\n",
    "print('MAE test dataset:', mean_absolute_error(y_test1, yhat_test1))"
   ]
  },
  {
   "cell_type": "code",
   "execution_count": 30,
   "id": "31ffa642",
   "metadata": {},
   "outputs": [],
   "source": [
    "from sklearn.linear_model import Lasso"
   ]
  },
  {
   "cell_type": "code",
   "execution_count": 35,
   "id": "b795bb99",
   "metadata": {},
   "outputs": [
    {
     "data": {
      "image/png": "[encoded data removed]",
      "text/plain": [
       "<Figure size 432x288 with 1 Axes>"
      ]
     },
     "metadata": {
      "needs_background": "light"
     },
     "output_type": "display_data"
    }
   ],
   "source": [
    "lambdas = np.linspace(0.01,500,100)\n",
    "lasso = Lasso(max_iter=10000)\n",
    "coefs = []\n",
    "\n",
    "for a in lambdas:\n",
    "    lasso.set_params(alpha=a)\n",
    "    lasso.fit(X_train, y_train)\n",
    "    coefs.append(lasso.coef_)\n",
    "\n",
    "ax = plt.gca()\n",
    "\n",
    "ax.plot(lambdas, coefs)\n",
    "ax.set_xscale('log')\n",
    "plt.axis('tight')\n",
    "plt.xlabel('lambda')\n",
    "plt.ylabel('Standardized Coefficients')\n",
    "plt.title('Lasso coefficients as a function of lambda');"
   ]
  },
  {
   "cell_type": "code",
   "execution_count": 36,
   "id": "71201c1e",
   "metadata": {},
   "outputs": [
    {
     "data": {
      "text/plain": [
       "LassoCV(cv=5, max_iter=10000, random_state=12)"
      ]
     },
     "execution_count": 36,
     "metadata": {},
     "output_type": "execute_result"
    }
   ],
   "source": [
    "from sklearn.linear_model import LassoCV\n",
    "\n",
    "# Lasso with 5 fold cross-validation\n",
    "model = LassoCV(cv=5, random_state=12, max_iter=10000)\n",
    "\n",
    "# Fit model\n",
    "model.fit(X_train, y_train)"
   ]
  },
  {
   "cell_type": "code",
   "execution_count": 37,
   "id": "a9146299",
   "metadata": {},
   "outputs": [
    {
     "data": {
      "text/plain": [
       "0.9011676274188942"
      ]
     },
     "execution_count": 37,
     "metadata": {},
     "output_type": "execute_result"
    }
   ],
   "source": [
    "model.alpha_"
   ]
  },
  {
   "cell_type": "code",
   "execution_count": 38,
   "id": "9860eb95",
   "metadata": {},
   "outputs": [
    {
     "data": {
      "text/plain": [
       "Lasso(alpha=0.9011676274188942)"
      ]
     },
     "execution_count": 38,
     "metadata": {},
     "output_type": "execute_result"
    }
   ],
   "source": [
    "# Set best lambda\n",
    "lasso_best = Lasso(alpha=model.alpha_)\n",
    "lasso_best.fit(X_train, y_train)"
   ]
  },
  {
   "cell_type": "code",
   "execution_count": 39,
   "id": "f457d3c1",
   "metadata": {},
   "outputs": [
    {
     "name": "stdout",
     "output_type": "stream",
     "text": [
      "[(-0.00918031450729672, 'INF'), (-0.021842531180833288, 'TRADE'), (0.0, 'H1'), (0.0, 'IND'), (-0.040763745463057575, 'M1'), (0.0, 'FDI')]\n"
     ]
    }
   ],
   "source": [
    "print(list(zip(lasso_best.coef_, X)))"
   ]
  },
  {
   "cell_type": "code",
   "execution_count": 40,
   "id": "53179e0f",
   "metadata": {},
   "outputs": [],
   "source": [
    "yhat_test2 = lasso_best.predict(X_test)"
   ]
  },
  {
   "cell_type": "code",
   "execution_count": 68,
   "id": "76f0420c",
   "metadata": {},
   "outputs": [
    {
     "data": {
      "text/html": [
       "<div>\n",
       "<style scoped>\n",
       "    .dataframe tbody tr th:only-of-type {\n",
       "        vertical-align: middle;\n",
       "    }\n",
       "\n",
       "    .dataframe tbody tr th {\n",
       "        vertical-align: top;\n",
       "    }\n",
       "\n",
       "    .dataframe thead th {\n",
       "        text-align: right;\n",
       "    }\n",
       "</style>\n",
       "<table border=\"1\" class=\"dataframe\">\n",
       "  <thead>\n",
       "    <tr style=\"text-align: right;\">\n",
       "      <th></th>\n",
       "      <th>Actual</th>\n",
       "      <th>Predicted</th>\n",
       "    </tr>\n",
       "    <tr>\n",
       "      <th>year</th>\n",
       "      <th></th>\n",
       "      <th></th>\n",
       "    </tr>\n",
       "  </thead>\n",
       "  <tbody>\n",
       "    <tr>\n",
       "      <th>2001</th>\n",
       "      <td>6.192893</td>\n",
       "      <td>7.085111</td>\n",
       "    </tr>\n",
       "    <tr>\n",
       "      <th>2014</th>\n",
       "      <td>6.422247</td>\n",
       "      <td>6.841004</td>\n",
       "    </tr>\n",
       "    <tr>\n",
       "      <th>2002</th>\n",
       "      <td>6.320821</td>\n",
       "      <td>7.515644</td>\n",
       "    </tr>\n",
       "    <tr>\n",
       "      <th>2020</th>\n",
       "      <td>2.865412</td>\n",
       "      <td>6.489863</td>\n",
       "    </tr>\n",
       "    <tr>\n",
       "      <th>2006</th>\n",
       "      <td>6.977955</td>\n",
       "      <td>6.342175</td>\n",
       "    </tr>\n",
       "  </tbody>\n",
       "</table>\n",
       "</div>"
      ],
      "text/plain": [
       "        Actual  Predicted\n",
       "year                     \n",
       "2001  6.192893   7.085111\n",
       "2014  6.422247   6.841004\n",
       "2002  6.320821   7.515644\n",
       "2020  2.865412   6.489863\n",
       "2006  6.977955   6.342175"
      ]
     },
     "execution_count": 68,
     "metadata": {},
     "output_type": "execute_result"
    }
   ],
   "source": [
    "df_temp = pd.DataFrame({'Actual': y_test, 'Predicted': yhat_test2})\n",
    "df_temp.head()"
   ]
  },
  {
   "cell_type": "code",
   "execution_count": 69,
   "id": "1fa3d340",
   "metadata": {},
   "outputs": [
    {
     "data": {
      "image/png": "[encoded data removed]",
      "text/plain": [
       "<Figure size 720x432 with 1 Axes>"
      ]
     },
     "metadata": {
      "needs_background": "light"
     },
     "output_type": "display_data"
    }
   ],
   "source": [
    "df_temp = df_temp.head(30)\n",
    "df_temp.plot(kind='bar',figsize=(10,6))\n",
    "plt.grid(which='major', linestyle='-', linewidth='0.5', color='green')\n",
    "plt.grid(which='minor', linestyle=':', linewidth='0.5', color='black')\n",
    "plt.show()"
   ]
  },
  {
   "cell_type": "code",
   "execution_count": 41,
   "id": "cc553360",
   "metadata": {},
   "outputs": [
    {
     "name": "stdout",
     "output_type": "stream",
     "text": [
      "RMSE test dataset: 1.7137117901639218\n",
      "MSE test dataset: 2.936808099746834\n",
      "MAE test dataset: 1.3437589607105795\n"
     ]
    }
   ],
   "source": [
    "print('RMSE test dataset:', mean_squared_error(y_test, yhat_test2, squared=False))\n",
    "print('MSE test dataset:', mean_squared_error(y_test, yhat_test2))\n",
    "print('MAE test dataset:', mean_absolute_error(y_test, yhat_test2))"
   ]
  },
  {
   "cell_type": "code",
   "execution_count": 76,
   "id": "df3932a4",
   "metadata": {},
   "outputs": [
    {
     "data": {
      "text/plain": [
       "LassoCV(cv=5, max_iter=10000, random_state=12)"
      ]
     },
     "execution_count": 76,
     "metadata": {},
     "output_type": "execute_result"
    }
   ],
   "source": [
    "# Lasso with 5 fold cross-validation\n",
    "model1 = LassoCV(cv=5, random_state=12, max_iter=10000)\n",
    "\n",
    "# Fit model\n",
    "model1.fit(X_train1, y_train1)"
   ]
  },
  {
   "cell_type": "code",
   "execution_count": 77,
   "id": "7e988a78",
   "metadata": {},
   "outputs": [
    {
     "data": {
      "text/plain": [
       "0.6484866052321772"
      ]
     },
     "execution_count": 77,
     "metadata": {},
     "output_type": "execute_result"
    }
   ],
   "source": [
    "model1.alpha_"
   ]
  },
  {
   "cell_type": "code",
   "execution_count": 78,
   "id": "e29d56e0",
   "metadata": {},
   "outputs": [
    {
     "data": {
      "text/plain": [
       "Lasso(alpha=0.6484866052321772)"
      ]
     },
     "execution_count": 78,
     "metadata": {},
     "output_type": "execute_result"
    }
   ],
   "source": [
    "lasso_best1 = Lasso(alpha=model1.alpha_)\n",
    "lasso_best1.fit(X_train1, y_train1)"
   ]
  },
  {
   "cell_type": "code",
   "execution_count": 83,
   "id": "95a8f687",
   "metadata": {},
   "outputs": [
    {
     "name": "stdout",
     "output_type": "stream",
     "text": [
      "[(-0.19471996559183888, 'GDP'), (0.012585235595486, 'TRADE'), (-4.101007991019155, 'H1'), (0.0, 'IND'), (-0.1322903393609397, 'M1'), (0.544453984044504, 'FDI')]\n"
     ]
    }
   ],
   "source": [
    "print(list(zip(lasso_best1.coef_, X1)))"
   ]
  },
  {
   "cell_type": "code",
   "execution_count": 80,
   "id": "501b5908",
   "metadata": {},
   "outputs": [],
   "source": [
    "yhat_test21 = lasso_best1.predict(X_test1)"
   ]
  },
  {
   "cell_type": "code",
   "execution_count": 119,
   "id": "39d6d989",
   "metadata": {},
   "outputs": [
    {
     "name": "stdout",
     "output_type": "stream",
     "text": [
      "RMSE test dataset: 3.2083271130597057\n",
      "MSE test dataset: 10.293362864394025\n",
      "MAE test dataset: 2.6750827648485824\n"
     ]
    }
   ],
   "source": [
    "print('RMSE test dataset:', mean_squared_error(y_test1, yhat_test21, squared=False))\n",
    "print('MSE test dataset:', mean_squared_error(y_test1, yhat_test21))\n",
    "print('MAE test dataset:', mean_absolute_error(y_test1, yhat_test21))"
   ]
  },
  {
   "cell_type": "code",
   "execution_count": 81,
   "id": "f11b1028",
   "metadata": {},
   "outputs": [
    {
     "data": {
      "text/html": [
       "<div>\n",
       "<style scoped>\n",
       "    .dataframe tbody tr th:only-of-type {\n",
       "        vertical-align: middle;\n",
       "    }\n",
       "\n",
       "    .dataframe tbody tr th {\n",
       "        vertical-align: top;\n",
       "    }\n",
       "\n",
       "    .dataframe thead th {\n",
       "        text-align: right;\n",
       "    }\n",
       "</style>\n",
       "<table border=\"1\" class=\"dataframe\">\n",
       "  <thead>\n",
       "    <tr style=\"text-align: right;\">\n",
       "      <th></th>\n",
       "      <th>Actual</th>\n",
       "      <th>Predicted</th>\n",
       "    </tr>\n",
       "    <tr>\n",
       "      <th>year</th>\n",
       "      <th></th>\n",
       "      <th></th>\n",
       "    </tr>\n",
       "  </thead>\n",
       "  <tbody>\n",
       "    <tr>\n",
       "      <th>2001</th>\n",
       "      <td>-0.431545</td>\n",
       "      <td>5.133583</td>\n",
       "    </tr>\n",
       "    <tr>\n",
       "      <th>2014</th>\n",
       "      <td>4.084554</td>\n",
       "      <td>3.580497</td>\n",
       "    </tr>\n",
       "    <tr>\n",
       "      <th>2002</th>\n",
       "      <td>3.830828</td>\n",
       "      <td>7.488065</td>\n",
       "    </tr>\n",
       "    <tr>\n",
       "      <th>2020</th>\n",
       "      <td>3.220934</td>\n",
       "      <td>6.738337</td>\n",
       "    </tr>\n",
       "    <tr>\n",
       "      <th>2006</th>\n",
       "      <td>7.418017</td>\n",
       "      <td>8.169720</td>\n",
       "    </tr>\n",
       "  </tbody>\n",
       "</table>\n",
       "</div>"
      ],
      "text/plain": [
       "        Actual  Predicted\n",
       "year                     \n",
       "2001 -0.431545   5.133583\n",
       "2014  4.084554   3.580497\n",
       "2002  3.830828   7.488065\n",
       "2020  3.220934   6.738337\n",
       "2006  7.418017   8.169720"
      ]
     },
     "execution_count": 81,
     "metadata": {},
     "output_type": "execute_result"
    }
   ],
   "source": [
    "df_temp = pd.DataFrame({'Actual': y_test1, 'Predicted': yhat_test21})\n",
    "df_temp.head()"
   ]
  },
  {
   "cell_type": "code",
   "execution_count": 82,
   "id": "c06bde57",
   "metadata": {},
   "outputs": [
    {
     "data": {
      "image/png": "[encoded data removed]",
      "text/plain": [
       "<Figure size 720x432 with 1 Axes>"
      ]
     },
     "metadata": {
      "needs_background": "light"
     },
     "output_type": "display_data"
    }
   ],
   "source": [
    "df_temp = df_temp.head(30)\n",
    "df_temp.plot(kind='bar',figsize=(10,6))\n",
    "plt.grid(which='major', linestyle='-', linewidth='0.5', color='green')\n",
    "plt.grid(which='minor', linestyle=':', linewidth='0.5', color='black')\n",
    "plt.show()"
   ]
  },
  {
   "cell_type": "code",
   "execution_count": 42,
   "id": "e2ac17ad",
   "metadata": {},
   "outputs": [],
   "source": [
    "from sklearn.neighbors import KNeighborsRegressor\n",
    "from sklearn.metrics import accuracy_score"
   ]
  },
  {
   "cell_type": "code",
   "execution_count": 104,
   "id": "7272391e",
   "metadata": {},
   "outputs": [
    {
     "name": "stdout",
     "output_type": "stream",
     "text": [
      "K = 2 - R^2 score: -0.9737089985756828\n",
      "K = 3 - R^2 score: -0.841239440201911\n",
      "K = 4 - R^2 score: -0.7581057835862748\n",
      "K = 5 - R^2 score: -0.7643352077312324\n",
      "K = 6 - R^2 score: -0.597162665405798\n",
      "K = 7 - R^2 score: -0.4532024809896582\n"
     ]
    }
   ],
   "source": [
    "lst_k = [] #danh sách các giá trị k\n",
    "lst_ac = [] #danh sách các độ chính xác tương ứng với các giá trị k\n",
    "for k in range(2, 8): #np.sqrt(X_train.shape[0])/2\n",
    "    lst_k.append(k)\n",
    "    knn = KNeighborsRegressor(n_neighbors = k)\n",
    "    knn.fit(X_train, y_train)\n",
    "    yhat_test = knn.predict(X_test)\n",
    "    score = knn.score(X_test,y_test)\n",
    "    lst_ac.append(score)\n",
    "    \n",
    "    print('K =', k,'- R^2 score:', score)"
   ]
  },
  {
   "cell_type": "code",
   "execution_count": 105,
   "id": "5643fd45",
   "metadata": {},
   "outputs": [
    {
     "name": "stdout",
     "output_type": "stream",
     "text": [
      "Giá trị K phù hợp nhất là 7 với R^2 score là -0.4532024809896582\n"
     ]
    }
   ],
   "source": [
    "vitri = lst_ac.index(max(lst_ac))\n",
    "k_best = lst_k[vitri]\n",
    "print('Giá trị K phù hợp nhất là', k_best,'với R^2 score là', lst_ac[vitri])"
   ]
  },
  {
   "cell_type": "code",
   "execution_count": 106,
   "id": "fae01884",
   "metadata": {},
   "outputs": [
    {
     "data": {
      "image/png": "[encoded data removed]",
      "text/plain": [
       "<Figure size 432x360 with 1 Axes>"
      ]
     },
     "metadata": {
      "needs_background": "light"
     },
     "output_type": "display_data"
    }
   ],
   "source": [
    "plt.figure(figsize=(6,5))\n",
    "plt.plot(lst_k, lst_ac)\n",
    "plt.title('GDP')\n",
    "plt.xlabel('Number of Neighbors K')\n",
    "plt.ylabel('Score')\n",
    "plt.show()"
   ]
  },
  {
   "cell_type": "code",
   "execution_count": 111,
   "id": "821377d8",
   "metadata": {},
   "outputs": [],
   "source": [
    "model_knn = KNeighborsRegressor(n_neighbors=7)"
   ]
  },
  {
   "cell_type": "code",
   "execution_count": 112,
   "id": "6f93faaa",
   "metadata": {},
   "outputs": [
    {
     "data": {
      "text/plain": [
       "KNeighborsRegressor(n_neighbors=7)"
      ]
     },
     "execution_count": 112,
     "metadata": {},
     "output_type": "execute_result"
    }
   ],
   "source": [
    "model_knn.fit(X_train1, y_train1)"
   ]
  },
  {
   "cell_type": "code",
   "execution_count": 113,
   "id": "bd2da983",
   "metadata": {},
   "outputs": [],
   "source": [
    "yhat_test3 = model_knn.predict(X_test1)"
   ]
  },
  {
   "cell_type": "code",
   "execution_count": 114,
   "id": "dc56583c",
   "metadata": {},
   "outputs": [
    {
     "data": {
      "text/html": [
       "<div>\n",
       "<style scoped>\n",
       "    .dataframe tbody tr th:only-of-type {\n",
       "        vertical-align: middle;\n",
       "    }\n",
       "\n",
       "    .dataframe tbody tr th {\n",
       "        vertical-align: top;\n",
       "    }\n",
       "\n",
       "    .dataframe thead th {\n",
       "        text-align: right;\n",
       "    }\n",
       "</style>\n",
       "<table border=\"1\" class=\"dataframe\">\n",
       "  <thead>\n",
       "    <tr style=\"text-align: right;\">\n",
       "      <th></th>\n",
       "      <th>Actual</th>\n",
       "      <th>Predicted</th>\n",
       "    </tr>\n",
       "    <tr>\n",
       "      <th>year</th>\n",
       "      <th></th>\n",
       "      <th></th>\n",
       "    </tr>\n",
       "  </thead>\n",
       "  <tbody>\n",
       "    <tr>\n",
       "      <th>2001</th>\n",
       "      <td>-0.431545</td>\n",
       "      <td>5.512397</td>\n",
       "    </tr>\n",
       "    <tr>\n",
       "      <th>2014</th>\n",
       "      <td>4.084554</td>\n",
       "      <td>7.689770</td>\n",
       "    </tr>\n",
       "    <tr>\n",
       "      <th>2002</th>\n",
       "      <td>3.830828</td>\n",
       "      <td>7.643681</td>\n",
       "    </tr>\n",
       "    <tr>\n",
       "      <th>2020</th>\n",
       "      <td>3.220934</td>\n",
       "      <td>6.141084</td>\n",
       "    </tr>\n",
       "    <tr>\n",
       "      <th>2006</th>\n",
       "      <td>7.418017</td>\n",
       "      <td>5.483615</td>\n",
       "    </tr>\n",
       "  </tbody>\n",
       "</table>\n",
       "</div>"
      ],
      "text/plain": [
       "        Actual  Predicted\n",
       "year                     \n",
       "2001 -0.431545   5.512397\n",
       "2014  4.084554   7.689770\n",
       "2002  3.830828   7.643681\n",
       "2020  3.220934   6.141084\n",
       "2006  7.418017   5.483615"
      ]
     },
     "execution_count": 114,
     "metadata": {},
     "output_type": "execute_result"
    }
   ],
   "source": [
    "df_temp = pd.DataFrame({'Actual': y_test1, 'Predicted': yhat_test3})\n",
    "df_temp.head()"
   ]
  },
  {
   "cell_type": "code",
   "execution_count": 67,
   "id": "ebfc5027",
   "metadata": {},
   "outputs": [
    {
     "data": {
      "image/png": "[encoded data removed]",
      "text/plain": [
       "<Figure size 720x432 with 1 Axes>"
      ]
     },
     "metadata": {
      "needs_background": "light"
     },
     "output_type": "display_data"
    }
   ],
   "source": [
    "df_temp = df_temp.head(30)\n",
    "df_temp.plot(kind='bar',figsize=(10,6))\n",
    "plt.grid(which='major', linestyle='-', linewidth='0.5', color='green')\n",
    "plt.grid(which='minor', linestyle=':', linewidth='0.5', color='black')\n",
    "plt.show()"
   ]
  },
  {
   "cell_type": "code",
   "execution_count": 115,
   "id": "fbf2e907",
   "metadata": {},
   "outputs": [
    {
     "name": "stdout",
     "output_type": "stream",
     "text": [
      "RMSE test dataset: 3.589174821942085\n",
      "MSE test dataset: 12.882175902462997\n",
      "MAE test dataset: 3.280929543054876\n"
     ]
    }
   ],
   "source": [
    "print('RMSE test dataset:', mean_squared_error(y_test1, yhat_test3, squared=False))\n",
    "print('MSE test dataset:', mean_squared_error(y_test1, yhat_test3))\n",
    "print('MAE test dataset:', mean_absolute_error(y_test1, yhat_test3))"
   ]
  },
  {
   "cell_type": "code",
   "execution_count": null,
   "id": "62fd78e2",
   "metadata": {},
   "outputs": [],
   "source": []
  },
  {
   "cell_type": "code",
   "execution_count": 52,
   "id": "8e76f8cb",
   "metadata": {},
   "outputs": [],
   "source": [
    "import VisualizeNN as VisNN\n",
    "from sklearn.neural_network import MLPRegressor\n",
    "from sklearn import metrics\n",
    "from sklearn.model_selection import GridSearchCV\n",
    "from sklearn.preprocessing import StandardScaler\n",
    "from sklearn.metrics import plot_confusion_matrix\n",
    "import matplotlib.pyplot as plt"
   ]
  },
  {
   "cell_type": "code",
   "execution_count": 138,
   "id": "ce27fcb6",
   "metadata": {},
   "outputs": [],
   "source": [
    "sc_X = StandardScaler()\n",
    "X_trainscaled=sc_X.fit_transform(X_train1)\n",
    "X_testscaled=sc_X.transform(X_test1)"
   ]
  },
  {
   "cell_type": "code",
   "execution_count": 139,
   "id": "248cc246",
   "metadata": {},
   "outputs": [],
   "source": [
    "list_i=[]\n",
    "list_RMSE=[]\n",
    "for i in range (1,7):\n",
    "    regr = MLPRegressor(hidden_layer_sizes=(i,),random_state=12, max_iter=1000).fit(X_trainscaled, y_train)\n",
    "    y_pred = regr.predict(X_testscaled)\n",
    "    RMSE=np.sqrt(metrics.mean_squared_error(y_test1, y_pred))\n",
    "    list_i.append(i)\n",
    "    list_RMSE.append(RMSE)"
   ]
  },
  {
   "cell_type": "code",
   "execution_count": 140,
   "id": "90803c9a",
   "metadata": {},
   "outputs": [
    {
     "data": {
      "image/png": "[encoded data removed]",
      "text/plain": [
       "<Figure size 432x288 with 1 Axes>"
      ]
     },
     "metadata": {
      "needs_background": "light"
     },
     "output_type": "display_data"
    }
   ],
   "source": [
    "plt.plot(list_i,list_RMSE,color='green', linestyle='dashed', linewidth = 3,\n",
    "         marker='o', markerfacecolor='blue', markersize=12)\n",
    "plt.title('INF')\n",
    "plt.xlabel('Number of Neurons in the hidden layer')\n",
    "plt.ylabel('RMSE')\n",
    "plt.show()"
   ]
  },
  {
   "cell_type": "code",
   "execution_count": 141,
   "id": "da145e48",
   "metadata": {},
   "outputs": [],
   "source": [
    "regr = MLPRegressor(hidden_layer_sizes=(4,),random_state=12, max_iter=1000).fit(X_trainscaled, y_train)"
   ]
  },
  {
   "cell_type": "code",
   "execution_count": 142,
   "id": "aa977aeb",
   "metadata": {},
   "outputs": [],
   "source": [
    "network_structure = np.hstack(([X_trainscaled.shape[1]], np.asarray(regr.hidden_layer_sizes), [1]))"
   ]
  },
  {
   "cell_type": "code",
   "execution_count": 143,
   "id": "7e8223f4",
   "metadata": {},
   "outputs": [
    {
     "data": {
      "image/png": "[encoded data removed]",
      "text/plain": [
       "<Figure size 864x648 with 1 Axes>"
      ]
     },
     "metadata": {
      "needs_background": "light"
     },
     "output_type": "display_data"
    }
   ],
   "source": [
    "network=VisNN.DrawNN(network_structure, regr.coefs_)\n",
    "network.draw()"
   ]
  },
  {
   "cell_type": "code",
   "execution_count": 59,
   "id": "fadc137a",
   "metadata": {},
   "outputs": [
    {
     "data": {
      "text/plain": [
       "[array([[-0.12846733, -0.12779606,  0.38285784,  0.64949198, -1.54166974,\n",
       "          0.6489287 ],\n",
       "        [ 0.17373046, -0.9676966 ,  0.32298504, -0.47830402,  0.57739959,\n",
       "          0.69386712],\n",
       "        [ 0.25045821,  0.84579991, -1.61331064, -0.83139579,  0.91312604,\n",
       "         -0.25407184],\n",
       "        [ 0.12557026, -0.40381912,  1.20188838, -0.66104677, -1.07388501,\n",
       "         -0.42408494],\n",
       "        [ 0.13634187, -0.40465984,  0.5976831 ,  0.72280789, -1.12654803,\n",
       "         -0.06952229],\n",
       "        [ 0.20234993, -1.16641386, -1.19071622,  1.25811149,  0.47206182,\n",
       "          0.76267511]]),\n",
       " array([[-0.24944534],\n",
       "        [ 1.50066905],\n",
       "        [ 0.86485547],\n",
       "        [ 0.50511209],\n",
       "        [ 0.69214051],\n",
       "        [ 0.29568305]])]"
      ]
     },
     "execution_count": 59,
     "metadata": {},
     "output_type": "execute_result"
    }
   ],
   "source": [
    "regr.coefs_"
   ]
  },
  {
   "cell_type": "code",
   "execution_count": 144,
   "id": "dc9ce5f3",
   "metadata": {},
   "outputs": [
    {
     "data": {
      "text/plain": [
       "array([3.23379459, 4.40946431, 4.96121562, 2.44215393, 7.49226674,\n",
       "       3.49902897])"
      ]
     },
     "execution_count": 144,
     "metadata": {},
     "output_type": "execute_result"
    }
   ],
   "source": [
    "y_pred = regr.predict(X_testscaled)\n",
    "y_pred"
   ]
  },
  {
   "cell_type": "code",
   "execution_count": 150,
   "id": "55b2cdb5",
   "metadata": {},
   "outputs": [
    {
     "data": {
      "text/html": [
       "<div>\n",
       "<style scoped>\n",
       "    .dataframe tbody tr th:only-of-type {\n",
       "        vertical-align: middle;\n",
       "    }\n",
       "\n",
       "    .dataframe tbody tr th {\n",
       "        vertical-align: top;\n",
       "    }\n",
       "\n",
       "    .dataframe thead th {\n",
       "        text-align: right;\n",
       "    }\n",
       "</style>\n",
       "<table border=\"1\" class=\"dataframe\">\n",
       "  <thead>\n",
       "    <tr style=\"text-align: right;\">\n",
       "      <th></th>\n",
       "      <th>Actual</th>\n",
       "      <th>Predicted</th>\n",
       "    </tr>\n",
       "    <tr>\n",
       "      <th>year</th>\n",
       "      <th></th>\n",
       "      <th></th>\n",
       "    </tr>\n",
       "  </thead>\n",
       "  <tbody>\n",
       "    <tr>\n",
       "      <th>2001</th>\n",
       "      <td>-0.431545</td>\n",
       "      <td>3.233795</td>\n",
       "    </tr>\n",
       "    <tr>\n",
       "      <th>2014</th>\n",
       "      <td>4.084554</td>\n",
       "      <td>4.409464</td>\n",
       "    </tr>\n",
       "    <tr>\n",
       "      <th>2002</th>\n",
       "      <td>3.830828</td>\n",
       "      <td>4.961216</td>\n",
       "    </tr>\n",
       "    <tr>\n",
       "      <th>2020</th>\n",
       "      <td>3.220934</td>\n",
       "      <td>2.442154</td>\n",
       "    </tr>\n",
       "    <tr>\n",
       "      <th>2006</th>\n",
       "      <td>7.418017</td>\n",
       "      <td>7.492267</td>\n",
       "    </tr>\n",
       "    <tr>\n",
       "      <th>2013</th>\n",
       "      <td>6.592675</td>\n",
       "      <td>3.499029</td>\n",
       "    </tr>\n",
       "  </tbody>\n",
       "</table>\n",
       "</div>"
      ],
      "text/plain": [
       "        Actual  Predicted\n",
       "year                     \n",
       "2001 -0.431545   3.233795\n",
       "2014  4.084554   4.409464\n",
       "2002  3.830828   4.961216\n",
       "2020  3.220934   2.442154\n",
       "2006  7.418017   7.492267\n",
       "2013  6.592675   3.499029"
      ]
     },
     "execution_count": 150,
     "metadata": {},
     "output_type": "execute_result"
    }
   ],
   "source": [
    "df_temp = pd.DataFrame({'Actual': y_test1, 'Predicted': y_pred})\n",
    "df_temp.head(7)"
   ]
  },
  {
   "cell_type": "code",
   "execution_count": 146,
   "id": "9b677fea",
   "metadata": {},
   "outputs": [
    {
     "name": "stdout",
     "output_type": "stream",
     "text": [
      "Root Mean Squared Error: 2.0412703823107634\n",
      "Mean Squared Error: 4.16678477369913\n",
      "Mean Absolute Error: 1.511218664652467\n"
     ]
    }
   ],
   "source": [
    "print('Root Mean Squared Error:', np.sqrt(metrics.mean_squared_error(y_test1, y_pred)))\n",
    "print('Mean Squared Error:', metrics.mean_squared_error(y_test1, y_pred))  \n",
    "print('Mean Absolute Error:', metrics.mean_absolute_error(y_test1, y_pred))  \n"
   ]
  },
  {
   "cell_type": "code",
   "execution_count": 147,
   "id": "2c0d098c",
   "metadata": {},
   "outputs": [
    {
     "data": {
      "image/png": "[encoded data removed]",
      "text/plain": [
       "<Figure size 720x432 with 1 Axes>"
      ]
     },
     "metadata": {
      "needs_background": "light"
     },
     "output_type": "display_data"
    }
   ],
   "source": [
    "df_temp = df_temp.head(30)\n",
    "\n",
    "\n",
    "df_temp.plot(kind='bar',figsize=(10,6))\n",
    "plt.grid(which='major', linestyle='-', linewidth='0.5', color='green')\n",
    "plt.grid(which='minor', linestyle=':', linewidth='0.5', color='black')\n",
    "plt.title('INF')\n",
    "for p in ax.patches:\n",
    "    ax.annotate(str(p.get_height()), (p.get_x() * 1.005, p.get_height() * 1.005))\n",
    "plt.show()"
   ]
  },
  {
   "cell_type": "code",
   "execution_count": 149,
   "id": "8d3847be",
   "metadata": {},
   "outputs": [
    {
     "data": {
      "image/png": "[encoded data removed]",
      "text/plain": [
       "<Figure size 720x432 with 1 Axes>"
      ]
     },
     "metadata": {
      "needs_background": "light"
     },
     "output_type": "display_data"
    }
   ],
   "source": [
    "ax = df_temp.plot.bar(figsize=(10,6))\n",
    "for container in ax.containers:\n",
    "    ax.bar_label(container)\n",
    "plt.title('INF')\n",
    "plt.show()"
   ]
  },
  {
   "cell_type": "code",
   "execution_count": null,
   "id": "ecbd95c3",
   "metadata": {},
   "outputs": [],
   "source": []
  }
 ],
 "metadata": {
  "kernelspec": {
   "display_name": "Python 3 (ipykernel)",
   "language": "python",
   "name": "python3"
  },
  "language_info": {
   "codemirror_mode": {
    "name": "ipython",
    "version": 3
   },
   "file_extension": ".py",
   "mimetype": "text/x-python",
   "name": "python",
   "nbconvert_exporter": "python",
   "pygments_lexer": "ipython3",
   "version": "3.9.0"
  }
 },
 "nbformat": 4,
 "nbformat_minor": 5
}
